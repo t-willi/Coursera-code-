{
    "metadata": {
        "kernelspec": {
            "language": "python",
            "display_name": "Python 3",
            "name": "python3"
        },
        "language_info": {
            "pygments_lexer": "ipython3",
            "nbconvert_exporter": "python",
            "version": "3.6.4",
            "file_extension": ".py",
            "codemirror_mode": {
                "name": "ipython",
                "version": 3
            },
            "name": "python",
            "mimetype": "text/x-python"
        }
    },
    "nbformat_minor": 4,
    "nbformat": 4,
    "cells": [
        {
            "cell_type": "markdown",
            "source": "### <p style=\"text-align:center\">\n    <a href=\"https://skills.network/?utm_medium=Exinfluencer&utm_source=Exinfluencer&utm_content=000026UJ&utm_term=10006555&utm_id=NA-SkillsNetwork-Channel-SkillsNetworkCoursesIBMDS0321ENSkillsNetwork26802033-2022-01-01\" target=\"_blank\">\n    <img src=\"https://cf-courses-data.s3.us.cloud-object-storage.appdomain.cloud/assets/logos/SN_web_lightmode.png\" width=\"200\" alt=\"Skills Network Logo\"  />\n    </a>\n</p>\n",
            "metadata": {
                "id": "3n3ltmfnrqpi",
                "outputId": "a2d4f52a-2fb7-4668-f5f0-fe862aab8eb0",
                "papermill": {
                    "duration": 1.489571,
                    "end_time": "2020-09-19T06:26:57.168979",
                    "exception": false,
                    "start_time": "2020-09-19T06:26:55.679408",
                    "status": "completed"
                },
                "tags": []
            }
        },
        {
            "cell_type": "markdown",
            "source": "# **Launch Sites Locations Analysis with Folium**\n",
            "metadata": {}
        },
        {
            "cell_type": "markdown",
            "source": "Estimated time needed: **40** minutes\n",
            "metadata": {}
        },
        {
            "cell_type": "markdown",
            "source": "The launch success rate may depend on many factors such as payload mass, orbit type, and so on. It may also depend on the location and proximities of a launch site, i.e., the initial position of rocket trajectories. Finding an optimal location for building a launch site certainly involves many factors and hopefully we could discover some of the factors by analyzing the existing launch site locations.\n",
            "metadata": {}
        },
        {
            "cell_type": "markdown",
            "source": "In the previous exploratory data analysis labs, you have visualized the SpaceX launch dataset using `matplotlib` and `seaborn` and discovered some preliminary correlations between the launch site and success rates. In this lab, you will be performing more interactive visual analytics using `Folium`.\n",
            "metadata": {}
        },
        {
            "cell_type": "markdown",
            "source": "## Objectives\n",
            "metadata": {}
        },
        {
            "cell_type": "markdown",
            "source": "This lab contains the following tasks:\n\n*   **TASK 1:** Mark all launch sites on a map\n*   **TASK 2:** Mark the success/failed launches for each site on the map\n*   **TASK 3:** Calculate the distances between a launch site to its proximities\n\nAfter completed the above tasks, you should be able to find some geographical patterns about launch sites.\n",
            "metadata": {}
        },
        {
            "cell_type": "markdown",
            "source": "Let's first import required Python packages for this lab:\n",
            "metadata": {}
        },
        {
            "cell_type": "code",
            "source": "!pip3 install folium\n",
            "metadata": {
                "execution": {
                    "iopub.status.busy": "2022-06-04T15:46:42.494019Z",
                    "iopub.execute_input": "2022-06-04T15:46:42.49462Z",
                    "iopub.status.idle": "2022-06-04T15:47:13.178161Z",
                    "shell.execute_reply.started": "2022-06-04T15:46:42.494589Z",
                    "shell.execute_reply": "2022-06-04T15:47:13.176856Z"
                }
            },
            "execution_count": null,
            "outputs": []
        },
        {
            "cell_type": "code",
            "source": "#!pip3 install wget",
            "metadata": {
                "execution": {
                    "iopub.status.busy": "2022-06-04T15:47:13.180997Z",
                    "iopub.execute_input": "2022-06-04T15:47:13.181381Z",
                    "iopub.status.idle": "2022-06-04T15:47:13.186792Z",
                    "shell.execute_reply.started": "2022-06-04T15:47:13.181344Z",
                    "shell.execute_reply": "2022-06-04T15:47:13.185491Z"
                }
            },
            "execution_count": null,
            "outputs": []
        },
        {
            "cell_type": "code",
            "source": "import folium\n#import wget\nimport pandas as pd",
            "metadata": {
                "execution": {
                    "iopub.status.busy": "2022-06-04T15:47:13.188404Z",
                    "iopub.execute_input": "2022-06-04T15:47:13.188872Z",
                    "iopub.status.idle": "2022-06-04T15:47:13.199222Z",
                    "shell.execute_reply.started": "2022-06-04T15:47:13.188808Z",
                    "shell.execute_reply": "2022-06-04T15:47:13.198444Z"
                }
            },
            "execution_count": null,
            "outputs": []
        },
        {
            "cell_type": "code",
            "source": "# Import folium MarkerCluster plugin\nfrom folium.plugins import MarkerCluster\n# Import folium MousePosition plugin\nfrom folium.plugins import MousePosition\n# Import folium DivIcon plugin\nfrom folium.features import DivIcon",
            "metadata": {
                "execution": {
                    "iopub.status.busy": "2022-06-04T15:47:13.200471Z",
                    "iopub.execute_input": "2022-06-04T15:47:13.200799Z",
                    "iopub.status.idle": "2022-06-04T15:47:13.214691Z",
                    "shell.execute_reply.started": "2022-06-04T15:47:13.20077Z",
                    "shell.execute_reply": "2022-06-04T15:47:13.213917Z"
                }
            },
            "execution_count": null,
            "outputs": []
        },
        {
            "cell_type": "markdown",
            "source": "If you need to refresh your memory about folium, you may download and refer to this previous folium lab:\n",
            "metadata": {}
        },
        {
            "cell_type": "markdown",
            "source": "[Generating Maps with Python](https://cf-courses-data.s3.us.cloud-object-storage.appdomain.cloud/IBM-DS0321EN-SkillsNetwork/labs/module\\_3/DV0101EN-3-5-1-Generating-Maps-in-Python-py-v2.0.ipynb)\n",
            "metadata": {}
        },
        {
            "cell_type": "markdown",
            "source": "## Task 1: Mark all launch sites on a map\n",
            "metadata": {}
        },
        {
            "cell_type": "markdown",
            "source": "First, let's try to add each site's location on a map using site's latitude and longitude coordinates\n",
            "metadata": {}
        },
        {
            "cell_type": "markdown",
            "source": "The following dataset with the name `spacex_launch_geo.csv` is an augmented dataset with latitude and longitude added for each site.\n",
            "metadata": {}
        },
        {
            "cell_type": "code",
            "source": "# Download and read the `spacex_launch_geo.csv`\nspacex_df=pd.read_csv(\"../input/spacex-launch-geo/spacex_launch_geo.csv\")\n",
            "metadata": {
                "execution": {
                    "iopub.status.busy": "2022-06-04T15:47:13.216207Z",
                    "iopub.execute_input": "2022-06-04T15:47:13.216621Z",
                    "iopub.status.idle": "2022-06-04T15:47:13.236633Z",
                    "shell.execute_reply.started": "2022-06-04T15:47:13.21658Z",
                    "shell.execute_reply": "2022-06-04T15:47:13.235889Z"
                }
            },
            "execution_count": null,
            "outputs": []
        },
        {
            "cell_type": "code",
            "source": "spacex_df.head()",
            "metadata": {
                "execution": {
                    "iopub.status.busy": "2022-06-04T15:47:13.238041Z",
                    "iopub.execute_input": "2022-06-04T15:47:13.238991Z",
                    "iopub.status.idle": "2022-06-04T15:47:13.260378Z",
                    "shell.execute_reply.started": "2022-06-04T15:47:13.238946Z",
                    "shell.execute_reply": "2022-06-04T15:47:13.259451Z"
                }
            },
            "execution_count": null,
            "outputs": []
        },
        {
            "cell_type": "markdown",
            "source": "Now, you can take a look at what are the coordinates for each site.\n",
            "metadata": {}
        },
        {
            "cell_type": "code",
            "source": "# Select relevant sub-columns: `Launch Site`, `Lat(Latitude)`, `Long(Longitude)`, `class`\nspacex_df = spacex_df[['Launch Site', 'Lat', 'Long', 'class']]\nlaunch_sites_df = spacex_df.groupby(['Launch Site'], as_index=False).first()\nlaunch_sites_df = launch_sites_df[['Launch Site', 'Lat', 'Long']]\nlaunch_sites_df\n",
            "metadata": {
                "execution": {
                    "iopub.status.busy": "2022-06-04T15:47:13.261672Z",
                    "iopub.execute_input": "2022-06-04T15:47:13.262579Z",
                    "iopub.status.idle": "2022-06-04T15:47:13.28752Z",
                    "shell.execute_reply.started": "2022-06-04T15:47:13.262524Z",
                    "shell.execute_reply": "2022-06-04T15:47:13.286582Z"
                }
            },
            "execution_count": null,
            "outputs": []
        },
        {
            "cell_type": "markdown",
            "source": "Above coordinates are just plain numbers that can not give you any intuitive insights about where are those launch sites. If you are very good at geography, you can interpret those numbers directly in your mind. If not, that's fine too. Let's visualize those locations by pinning them on a map.\n",
            "metadata": {}
        },
        {
            "cell_type": "markdown",
            "source": "We first need to create a folium `Map` object, with an initial center location to be NASA Johnson Space Center at Houston, Texas.\n",
            "metadata": {}
        },
        {
            "cell_type": "code",
            "source": "# Start location is NASA Johnson Space Center\nnasa_coordinate = [29.559684888503615, -95.0830971930759]\nsite_map = folium.Map(location=nasa_coordinate, zoom_start=10)\n",
            "metadata": {
                "execution": {
                    "iopub.status.busy": "2022-06-04T15:47:13.288722Z",
                    "iopub.execute_input": "2022-06-04T15:47:13.289055Z",
                    "iopub.status.idle": "2022-06-04T15:47:13.306459Z",
                    "shell.execute_reply.started": "2022-06-04T15:47:13.289026Z",
                    "shell.execute_reply": "2022-06-04T15:47:13.305642Z"
                }
            },
            "execution_count": null,
            "outputs": []
        },
        {
            "cell_type": "markdown",
            "source": "We could use `folium.Circle` to add a highlighted circle area with a text label on a specific coordinate. For example,\n",
            "metadata": {}
        },
        {
            "cell_type": "code",
            "source": "# Create a blue circle at NASA Johnson Space Center's coordinate with a popup label showing its name\ncircle = folium.Circle(nasa_coordinate, radius=1000, color='#d35400', fill=True).add_child(folium.Popup('NASA Johnson Space Center'))\n# Create a blue circle at NASA Johnson Space Center's coordinate with a icon showing its name\nmarker = folium.map.Marker(\n    nasa_coordinate,\n    # Create an icon as a text label\n    icon=DivIcon(\n        icon_size=(20,20),\n        icon_anchor=(0,0),\n        html='<div style=\"font-size: 12; color:#d35400;\"><b>%s</b></div>' % 'NASA JSC',\n        )\n    )\nsite_map.add_child(circle)\nsite_map.add_child(marker)",
            "metadata": {
                "execution": {
                    "iopub.status.busy": "2022-06-04T15:47:13.30761Z",
                    "iopub.execute_input": "2022-06-04T15:47:13.308079Z",
                    "iopub.status.idle": "2022-06-04T15:47:13.337459Z",
                    "shell.execute_reply.started": "2022-06-04T15:47:13.308047Z",
                    "shell.execute_reply": "2022-06-04T15:47:13.336758Z"
                }
            },
            "execution_count": null,
            "outputs": []
        },
        {
            "cell_type": "markdown",
            "source": "and you should find a small yellow circle near the city of Houston and you can zoom-in to see a larger circle.\n",
            "metadata": {}
        },
        {
            "cell_type": "markdown",
            "source": "Now, let's add a circle for each launch site in data frame `launch_sites`\n",
            "metadata": {}
        },
        {
            "cell_type": "markdown",
            "source": "*TODO:*  Create and add `folium.Circle` and `folium.Marker` for each launch site on the site map\n",
            "metadata": {}
        },
        {
            "cell_type": "markdown",
            "source": "An example of folium.Circle:\n",
            "metadata": {}
        },
        {
            "cell_type": "markdown",
            "source": "`folium.Circle(coordinate, radius=1000, color='#000000', fill=True).add_child(folium.Popup(...))`\n",
            "metadata": {}
        },
        {
            "cell_type": "markdown",
            "source": "An example of folium.Marker:\n",
            "metadata": {}
        },
        {
            "cell_type": "markdown",
            "source": "`folium.map.Marker(coordinate, icon=DivIcon(icon_size=(20,20),icon_anchor=(0,0), html='<div style=\"font-size: 12; color:#d35400;\"><b>%s</b></div>' % 'label', ))`\n",
            "metadata": {}
        },
        {
            "cell_type": "code",
            "source": "launch_sites_df\n",
            "metadata": {
                "execution": {
                    "iopub.status.busy": "2022-06-04T15:47:13.338884Z",
                    "iopub.execute_input": "2022-06-04T15:47:13.340057Z",
                    "iopub.status.idle": "2022-06-04T15:47:13.352213Z",
                    "shell.execute_reply.started": "2022-06-04T15:47:13.340011Z",
                    "shell.execute_reply": "2022-06-04T15:47:13.351318Z"
                }
            },
            "execution_count": null,
            "outputs": []
        },
        {
            "cell_type": "code",
            "source": "launch_sites_df.loc[0,\"Launch Site\"]",
            "metadata": {
                "execution": {
                    "iopub.status.busy": "2022-06-04T15:47:13.353474Z",
                    "iopub.execute_input": "2022-06-04T15:47:13.355167Z",
                    "iopub.status.idle": "2022-06-04T15:47:13.36254Z",
                    "shell.execute_reply.started": "2022-06-04T15:47:13.355115Z",
                    "shell.execute_reply": "2022-06-04T15:47:13.361897Z"
                }
            },
            "execution_count": null,
            "outputs": []
        },
        {
            "cell_type": "code",
            "source": "# Initial the map\nsite_map = folium.Map(location=nasa_coordinate, zoom_start=5)\n# For each launch site, add a Circle object based on its coordinate (Lat, Long) values. In addition, add Launch site name as a popup label\ncircles=[]\nmarkers=[]\nfor k,site in enumerate(launch_sites_df[\"Launch Site\"]):\n    lat = launch_sites_df.loc[k,\"Lat\"]\n    long = launch_sites_df.loc[k,\"Long\"]\n    coordinate=[lat,long]\n    name= launch_sites_df.loc[k,\"Launch Site\"]\n    circle = folium.Circle(coordinate,radius=1000, color='#d35400', fill=True).add_child(folium.Popup(name))\n    circles.append(circle)\n    # Adding launch site titels\n    # Create a blue circle at NASA Johnson Space Center's coordinate with a icon showing its name\n    marker = folium.map.Marker(\n        coordinate,\n        # Create an icon as a text label\n        icon=DivIcon(\n            icon_size=(20,20),\n            icon_anchor=(0,0),\n            html='<div style=\"font-size: 12; color:#d35400;\"><b>%s</b></div>' % name,\n            )\n        )\n    markers.append(marker)\n    \n",
            "metadata": {
                "execution": {
                    "iopub.status.busy": "2022-06-04T15:47:13.364477Z",
                    "iopub.execute_input": "2022-06-04T15:47:13.365097Z",
                    "iopub.status.idle": "2022-06-04T15:47:13.38246Z",
                    "shell.execute_reply.started": "2022-06-04T15:47:13.365052Z",
                    "shell.execute_reply": "2022-06-04T15:47:13.380537Z"
                }
            },
            "execution_count": null,
            "outputs": []
        },
        {
            "cell_type": "code",
            "source": "for circle in circles:\n    site_map.add_child(circle)\nfor marker in markers:\n    site_map.add_child(marker)\nsite_map",
            "metadata": {
                "execution": {
                    "iopub.status.busy": "2022-06-04T15:47:13.385738Z",
                    "iopub.execute_input": "2022-06-04T15:47:13.386269Z",
                    "iopub.status.idle": "2022-06-04T15:47:13.419158Z",
                    "shell.execute_reply.started": "2022-06-04T15:47:13.386217Z",
                    "shell.execute_reply": "2022-06-04T15:47:13.418201Z"
                }
            },
            "execution_count": null,
            "outputs": []
        },
        {
            "cell_type": "markdown",
            "source": "The generated map with marked launch sites should look similar to the following:\n",
            "metadata": {}
        },
        {
            "cell_type": "markdown",
            "source": "<center>\n    <img src=\"https://cf-courses-data.s3.us.cloud-object-storage.appdomain.cloud/IBM-DS0321EN-SkillsNetwork/labs/module_3/images/launch_site_markers.png\" />\n</center>\n",
            "metadata": {}
        },
        {
            "cell_type": "markdown",
            "source": "Now, you can explore the map by zoom-in/out the marked areas\n, and try to answer the following questions:\n\n*   Are all launch sites in proximity to the Equator line?\n*   Are all launch sites in very close proximity to the coast?\n\nAlso please try to explain your findings.\n",
            "metadata": {}
        },
        {
            "cell_type": "markdown",
            "source": "# Task 2: Mark the success/failed launches for each site on the map\n",
            "metadata": {}
        },
        {
            "cell_type": "markdown",
            "source": "Next, let's try to enhance the map by adding the launch outcomes for each site, and see which sites have high success rates.\nRecall that data frame spacex_df has detailed launch records, and the `class` column indicates if this launch was successful or not\n",
            "metadata": {}
        },
        {
            "cell_type": "code",
            "source": "spacex_df.tail(10)",
            "metadata": {
                "execution": {
                    "iopub.status.busy": "2022-06-04T15:47:13.420759Z",
                    "iopub.execute_input": "2022-06-04T15:47:13.421685Z",
                    "iopub.status.idle": "2022-06-04T15:47:13.437189Z",
                    "shell.execute_reply.started": "2022-06-04T15:47:13.421641Z",
                    "shell.execute_reply": "2022-06-04T15:47:13.436186Z"
                }
            },
            "execution_count": null,
            "outputs": []
        },
        {
            "cell_type": "markdown",
            "source": "Next, let's create markers for all launch records.\nIf a launch was successful `(class=1)`, then we use a green marker and if a launch was failed, we use a red marker `(class=0)`\n",
            "metadata": {}
        },
        {
            "cell_type": "markdown",
            "source": "Note that a launch only happens in one of the four launch sites, which means many launch records will have the exact same coordinate. Marker clusters can be a good way to simplify a map containing many markers having the same coordinate.\n",
            "metadata": {}
        },
        {
            "cell_type": "markdown",
            "source": "Let's first create a `MarkerCluster` object\n",
            "metadata": {}
        },
        {
            "cell_type": "code",
            "source": "marker_cluster = MarkerCluster()\n",
            "metadata": {
                "id": "wP9PVUZ7Jfjt",
                "outputId": "6a3b8164-940c-4b93-9f3d-c655c4a0c683",
                "papermill": {
                    "duration": 0.904519,
                    "end_time": "2020-09-19T06:27:38.357041",
                    "exception": false,
                    "start_time": "2020-09-19T06:27:37.452522",
                    "status": "completed"
                },
                "tags": [],
                "execution": {
                    "iopub.status.busy": "2022-06-04T15:47:13.438571Z",
                    "iopub.execute_input": "2022-06-04T15:47:13.439356Z",
                    "iopub.status.idle": "2022-06-04T15:47:13.443185Z",
                    "shell.execute_reply.started": "2022-06-04T15:47:13.439323Z",
                    "shell.execute_reply": "2022-06-04T15:47:13.442408Z"
                }
            },
            "execution_count": null,
            "outputs": []
        },
        {
            "cell_type": "markdown",
            "source": "*TODO:* Create a new column in `launch_sites` dataframe called `marker_color` to store the marker colors based on the `class` value\n",
            "metadata": {}
        },
        {
            "cell_type": "code",
            "source": "launch_sites_df[\"marker_color\"]=None\n# Apply a function to check the value of `class` column\n# If class=1, marker_color value will be green\n# If class=0, marker_color value will be red",
            "metadata": {
                "execution": {
                    "iopub.status.busy": "2022-06-04T15:47:13.444606Z",
                    "iopub.execute_input": "2022-06-04T15:47:13.445115Z",
                    "iopub.status.idle": "2022-06-04T15:47:13.459316Z",
                    "shell.execute_reply.started": "2022-06-04T15:47:13.445084Z",
                    "shell.execute_reply": "2022-06-04T15:47:13.458394Z"
                }
            },
            "execution_count": null,
            "outputs": []
        },
        {
            "cell_type": "code",
            "source": "# Function to assign color to launch outcome\ndef assign_marker_color(launch_outcome):\n    if launch_outcome == 1:\n        return 'green'\n    else:\n        return 'red'\n    \nspacex_df['marker_color'] = spacex_df['class'].apply(assign_marker_color)\nspacex_df.tail(10)",
            "metadata": {
                "execution": {
                    "iopub.status.busy": "2022-06-04T15:47:13.460888Z",
                    "iopub.execute_input": "2022-06-04T15:47:13.461419Z",
                    "iopub.status.idle": "2022-06-04T15:47:13.483778Z",
                    "shell.execute_reply.started": "2022-06-04T15:47:13.461345Z",
                    "shell.execute_reply": "2022-06-04T15:47:13.482879Z"
                }
            },
            "execution_count": null,
            "outputs": []
        },
        {
            "cell_type": "markdown",
            "source": "*TODO:* For each launch result in `spacex_df` data frame, add a `folium.Marker` to `marker_cluster`\n",
            "metadata": {}
        },
        {
            "cell_type": "code",
            "source": "# Add marker_cluster to current site_map\nsite_map.add_child(marker_cluster)\n\n# for each row in spacex_df data frame\n# create a Marker object with its coordinate\n# and customize the Marker's icon property to indicate if this launch was successed or failed, \n# e.g., icon=folium.Icon(color='white', icon_color=row['marker_color']\nfor index, record in spacex_df.iterrows():\n    # TODO: Create and add a Marker cluster to the site map\n    lat=record[1]\n    long=record[2]\n    location=[lat,long]\n    name=record[0]\n    color=record[4]\n    marker = folium.Marker(location, popup=name,icon=folium.Icon(color=color))\n    #icon=folium.Icon(color='white', icon_color=row['marker_color']\n    marker_cluster.add_child(marker)\n\nsite_map\n\n",
            "metadata": {
                "execution": {
                    "iopub.status.busy": "2022-06-04T15:47:13.485186Z",
                    "iopub.execute_input": "2022-06-04T15:47:13.486221Z",
                    "iopub.status.idle": "2022-06-04T15:47:13.643378Z",
                    "shell.execute_reply.started": "2022-06-04T15:47:13.486185Z",
                    "shell.execute_reply": "2022-06-04T15:47:13.642347Z"
                }
            },
            "execution_count": null,
            "outputs": []
        },
        {
            "cell_type": "markdown",
            "source": "Your updated map may look like the following screenshots:\n",
            "metadata": {}
        },
        {
            "cell_type": "markdown",
            "source": "<center>\n    <img src=\"https://cf-courses-data.s3.us.cloud-object-storage.appdomain.cloud/IBM-DS0321EN-SkillsNetwork/labs/module_3/images/launch_site_marker_cluster.png\" />\n</center>\n",
            "metadata": {}
        },
        {
            "cell_type": "markdown",
            "source": "<center>\n    <img src=\"https://cf-courses-data.s3.us.cloud-object-storage.appdomain.cloud/IBM-DS0321EN-SkillsNetwork/labs/module_3/images/launch_site_marker_cluster_zoomed.png\" />\n</center>\n",
            "metadata": {}
        },
        {
            "cell_type": "markdown",
            "source": "From the color-labeled markers in marker clusters, you should be able to easily identify which launch sites have relatively high success rates.\n",
            "metadata": {}
        },
        {
            "cell_type": "markdown",
            "source": "# TASK 3: Calculate the distances between a launch site to its proximities\n",
            "metadata": {}
        },
        {
            "cell_type": "markdown",
            "source": "Next, we need to explore and analyze the proximities of launch sites.\n",
            "metadata": {}
        },
        {
            "cell_type": "markdown",
            "source": "Let's first add a `MousePosition` on the map to get coordinate for a mouse over a point on the map. As such, while you are exploring the map, you can easily find the coordinates of any points of interests (such as railway)\n",
            "metadata": {}
        },
        {
            "cell_type": "code",
            "source": "# Add Mouse Position to get the coordinate (Lat, Long) for a mouse over on the map\nformatter = \"function(num) {return L.Util.formatNum(num, 5);};\"\nmouse_position = MousePosition(\n    position='topright',\n    separator=' Long: ',\n    empty_string='NaN',\n    lng_first=False,\n    num_digits=20,\n    prefix='Lat:',\n    lat_formatter=formatter,\n    lng_formatter=formatter,\n)\n\nsite_map.add_child(mouse_position)\nsite_map",
            "metadata": {
                "execution": {
                    "iopub.status.busy": "2022-06-04T15:47:13.644758Z",
                    "iopub.execute_input": "2022-06-04T15:47:13.645494Z",
                    "iopub.status.idle": "2022-06-04T15:47:13.785276Z",
                    "shell.execute_reply.started": "2022-06-04T15:47:13.645461Z",
                    "shell.execute_reply": "2022-06-04T15:47:13.784136Z"
                }
            },
            "execution_count": null,
            "outputs": []
        },
        {
            "cell_type": "markdown",
            "source": "Now zoom in to a launch site and explore its proximity to see if you can easily find any railway, highway, coastline, etc. Move your mouse to these points and mark down their coordinates (shown on the top-left) in order to the distance to the launch site.\n",
            "metadata": {}
        },
        {
            "cell_type": "markdown",
            "source": "You can calculate the distance between two points on the map based on their `Lat` and `Long` values using the following method:\n",
            "metadata": {}
        },
        {
            "cell_type": "code",
            "source": "from math import sin, cos, sqrt, atan2, radians\n\ndef calculate_distance(lat1, lon1, lat2, lon2):\n    # approximate radius of earth in km\n    R = 6373.0\n\n    lat1 = radians(lat1)\n    lon1 = radians(lon1)\n    lat2 = radians(lat2)\n    lon2 = radians(lon2)\n\n    dlon = lon2 - lon1\n    dlat = lat2 - lat1\n\n    a = sin(dlat / 2)**2 + cos(lat1) * cos(lat2) * sin(dlon / 2)**2\n    c = 2 * atan2(sqrt(a), sqrt(1 - a))\n\n    distance = R * c\n    return distance",
            "metadata": {
                "execution": {
                    "iopub.status.busy": "2022-06-04T15:47:13.787066Z",
                    "iopub.execute_input": "2022-06-04T15:47:13.787478Z",
                    "iopub.status.idle": "2022-06-04T15:47:13.797027Z",
                    "shell.execute_reply.started": "2022-06-04T15:47:13.78744Z",
                    "shell.execute_reply": "2022-06-04T15:47:13.796049Z"
                }
            },
            "execution_count": null,
            "outputs": []
        },
        {
            "cell_type": "markdown",
            "source": "*TODO:* Mark down a point on the closest coastline using MousePosition and calculate the distance between the coastline point and the launch site.\n",
            "metadata": {}
        },
        {
            "cell_type": "code",
            "source": "spacex_df.head()\n",
            "metadata": {
                "execution": {
                    "iopub.status.busy": "2022-06-04T15:47:13.798328Z",
                    "iopub.execute_input": "2022-06-04T15:47:13.799136Z",
                    "iopub.status.idle": "2022-06-04T15:47:13.819447Z",
                    "shell.execute_reply.started": "2022-06-04T15:47:13.799098Z",
                    "shell.execute_reply": "2022-06-04T15:47:13.818313Z"
                }
            },
            "execution_count": null,
            "outputs": []
        },
        {
            "cell_type": "code",
            "source": "# find coordinate of the closet coastline\n# e.g.,Lat: 28.56367  Lon: -80.57163\nlaunch_site_lat=spacex_df.loc[0,\"Lat\"]\nlaunch_site_lon=spacex_df.loc[0,\"Long\"]\ncoastline_lat=28.56367 \ncoastline_lon=-80.57163\ndistance_coastline = calculate_distance(launch_site_lat, launch_site_lon, coastline_lat, coastline_lon)\ndistance=distance_coastline\nbeach_coordinate=[28.56367 , -80.57163]\nsite_coordinate=[launch_site_lat,launch_site_lon]",
            "metadata": {
                "execution": {
                    "iopub.status.busy": "2022-06-04T15:47:13.82093Z",
                    "iopub.execute_input": "2022-06-04T15:47:13.821779Z",
                    "iopub.status.idle": "2022-06-04T15:47:13.835479Z",
                    "shell.execute_reply.started": "2022-06-04T15:47:13.821732Z",
                    "shell.execute_reply": "2022-06-04T15:47:13.834221Z"
                }
            },
            "execution_count": null,
            "outputs": []
        },
        {
            "cell_type": "markdown",
            "source": "*TODO:* After obtained its coordinate, create a `folium.Marker` to show the distance\n",
            "metadata": {}
        },
        {
            "cell_type": "code",
            "source": "# Create and add a folium.Marker on your selected closest coastline point on the map\n# Display the distance between coastline point and launch site using the icon property \n# for example\ndistance_circle = folium.Circle(beach_coordinate,radius=10, color='#d35400', fill=True).add_child(folium.Popup(\"distance_marker\"))\nsite_map.add_child(distance_circle)\n#site_map.add_child(distance_marker)",
            "metadata": {
                "execution": {
                    "iopub.status.busy": "2022-06-04T15:56:13.049217Z",
                    "iopub.execute_input": "2022-06-04T15:56:13.049621Z",
                    "iopub.status.idle": "2022-06-04T15:56:13.187035Z",
                    "shell.execute_reply.started": "2022-06-04T15:56:13.049589Z",
                    "shell.execute_reply": "2022-06-04T15:56:13.186315Z"
                }
            },
            "execution_count": null,
            "outputs": []
        },
        {
            "cell_type": "markdown",
            "source": "*TODO:* Draw a `PolyLine` between a launch site to the selected coastline point\n",
            "metadata": {}
        },
        {
            "cell_type": "code",
            "source": "beach_coordinate=[28.56367 , -80.57163]\nsite_coordinate=[launch_site_lat,launch_site_lon]\ncoordinates=[beach_coordinate,site_coordinate]\ncoordinates",
            "metadata": {
                "execution": {
                    "iopub.status.busy": "2022-06-04T15:47:13.855604Z",
                    "iopub.execute_input": "2022-06-04T15:47:13.855983Z",
                    "iopub.status.idle": "2022-06-04T15:47:13.870824Z",
                    "shell.execute_reply.started": "2022-06-04T15:47:13.855951Z",
                    "shell.execute_reply": "2022-06-04T15:47:13.870164Z"
                }
            },
            "execution_count": null,
            "outputs": []
        },
        {
            "cell_type": "code",
            "source": "# Create a `folium.PolyLine` object using the coastline coordinates and launch site coordinate\n\nlines=folium.PolyLine(locations=coordinates, weight=1)\nsite_map.add_child(lines)\n",
            "metadata": {
                "execution": {
                    "iopub.status.busy": "2022-06-04T15:47:13.872035Z",
                    "iopub.execute_input": "2022-06-04T15:47:13.872548Z",
                    "iopub.status.idle": "2022-06-04T15:47:14.023223Z",
                    "shell.execute_reply.started": "2022-06-04T15:47:13.872517Z",
                    "shell.execute_reply": "2022-06-04T15:47:14.022209Z"
                }
            },
            "execution_count": null,
            "outputs": []
        },
        {
            "cell_type": "markdown",
            "source": "Your updated map with distance line should look like the following screenshot:\n",
            "metadata": {}
        },
        {
            "cell_type": "markdown",
            "source": "<center>\n    <img src=\"https://cf-courses-data.s3.us.cloud-object-storage.appdomain.cloud/IBM-DS0321EN-SkillsNetwork/labs/module_3/images/launch_site_marker_distance.png\" />\n</center>\n",
            "metadata": {}
        },
        {
            "cell_type": "markdown",
            "source": "*TODO:* Similarly, you can draw a line betwee a launch site to its closest city, railway, highway, etc. You need to use `MousePosition` to find the their coordinates on the map first\n",
            "metadata": {}
        },
        {
            "cell_type": "markdown",
            "source": "A railway map symbol may look like this:\n",
            "metadata": {}
        },
        {
            "cell_type": "markdown",
            "source": "<center>\n    <img src=\"https://cf-courses-data.s3.us.cloud-object-storage.appdomain.cloud/IBM-DS0321EN-SkillsNetwork/labs/module_3/images/railway.png\" />\n</center>\n",
            "metadata": {}
        },
        {
            "cell_type": "markdown",
            "source": "A highway map symbol may look like this:\n",
            "metadata": {}
        },
        {
            "cell_type": "markdown",
            "source": "<center>\n    <img src=\"https://cf-courses-data.s3.us.cloud-object-storage.appdomain.cloud/IBM-DS0321EN-SkillsNetwork/labs/module_3/images/highway.png\" />\n</center>\n",
            "metadata": {}
        },
        {
            "cell_type": "markdown",
            "source": "A city map symbol may look like this:\n",
            "metadata": {}
        },
        {
            "cell_type": "markdown",
            "source": "<center>\n    <img src=\"https://cf-courses-data.s3.us.cloud-object-storage.appdomain.cloud/IBM-DS0321EN-SkillsNetwork/labs/module_3/images/city.png\" />\n</center>\n",
            "metadata": {}
        },
        {
            "cell_type": "code",
            "source": "# Create a marker with distance to a closest city, railway, highway, etc.\n# Draw a line between the marker to the launch site\n28,5729",
            "metadata": {
                "execution": {
                    "iopub.status.busy": "2022-06-04T15:47:14.024642Z",
                    "iopub.execute_input": "2022-06-04T15:47:14.025072Z",
                    "iopub.status.idle": "2022-06-04T15:47:14.029301Z",
                    "shell.execute_reply.started": "2022-06-04T15:47:14.025034Z",
                    "shell.execute_reply": "2022-06-04T15:47:14.028459Z"
                }
            },
            "execution_count": null,
            "outputs": []
        },
        {
            "cell_type": "code",
            "source": "",
            "metadata": {},
            "execution_count": null,
            "outputs": []
        },
        {
            "cell_type": "code",
            "source": "",
            "metadata": {},
            "execution_count": null,
            "outputs": []
        },
        {
            "cell_type": "markdown",
            "source": "After you plot distance lines to the proximities, you can answer the following questions easily:\n\n*   Are launch sites in close proximity to railways?\n*   Are launch sites in close proximity to highways?\n*   Are launch sites in close proximity to coastline?\n*   Do launch sites keep certain distance away from cities?\n\nAlso please try to explain your findings.\n",
            "metadata": {}
        },
        {
            "cell_type": "markdown",
            "source": "# Next Steps:\n\nNow you have discovered many interesting insights related to the launch sites' location using folium, in a very interactive way. Next, you will need to build a dashboard using Ploty Dash on detailed launch records.\n",
            "metadata": {}
        },
        {
            "cell_type": "markdown",
            "source": "## Authors\n",
            "metadata": {}
        },
        {
            "cell_type": "markdown",
            "source": "[Yan Luo](https://www.linkedin.com/in/yan-luo-96288783/?utm_medium=Exinfluencer&utm_source=Exinfluencer&utm_content=000026UJ&utm_term=10006555&utm_id=NA-SkillsNetwork-Channel-SkillsNetworkCoursesIBMDS0321ENSkillsNetwork26802033-2022-01-01)\n",
            "metadata": {}
        },
        {
            "cell_type": "markdown",
            "source": "### Other Contributors\n",
            "metadata": {}
        },
        {
            "cell_type": "markdown",
            "source": "Joseph Santarcangelo\n",
            "metadata": {}
        },
        {
            "cell_type": "markdown",
            "source": "## Change Log\n",
            "metadata": {}
        },
        {
            "cell_type": "markdown",
            "source": "| Date (YYYY-MM-DD) | Version | Changed By | Change Description          |\n| ----------------- | ------- | ---------- | --------------------------- |\n| 2021-05-26        | 1.0     | Yan        | Created the initial version |\n",
            "metadata": {}
        },
        {
            "cell_type": "markdown",
            "source": "Copyright \u00a9 2021 IBM Corporation. All rights reserved.\n",
            "metadata": {}
        }
    ]
}